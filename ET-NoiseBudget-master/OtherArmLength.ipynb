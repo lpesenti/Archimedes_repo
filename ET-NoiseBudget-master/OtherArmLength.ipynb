{
 "cells": [
  {
   "cell_type": "markdown",
   "metadata": {},
   "source": [
    "# ET Noise Budget Curves with 10km, 15km, 20km arm length\n",
    "\n",
    "These are plots of the noise budget curves and examples on how to work with them.\n",
    "\n",
    "To plot these curves yourself, you will need:\n",
    "\n",
    "* an up-to-date python installation (e.g. Anaconda)\n",
    "* pygwinc (`pip install gwinc`)"
   ]
  },
  {
   "cell_type": "code",
   "execution_count": 1,
   "metadata": {},
   "outputs": [],
   "source": [
    "import matplotlib.pyplot as plt\n",
    "import gwinc\n",
    "import numpy as np\n",
    "from gwinc.ifo.noises import arm_cavity\n",
    "from  ETLF import sqz_dual_fc\n",
    "from  ETHF  import squeezingFC\n",
    "%matplotlib inline"
   ]
  },
  {
   "cell_type": "markdown",
   "metadata": {},
   "source": [
    "# ET High-Frequency"
   ]
  },
  {
   "cell_type": "code",
   "execution_count": 4,
   "metadata": {},
   "outputs": [],
   "source": [
    "freq=np.logspace(0,4,3000)"
   ]
  },
  {
   "cell_type": "markdown",
   "metadata": {},
   "source": [
    "## 10km HF"
   ]
  },
  {
   "cell_type": "code",
   "execution_count": 3,
   "metadata": {},
   "outputs": [],
   "source": [
    "budgetHF = gwinc.load_budget('ETHF',freq=freq)\n",
    "tracesHF = budgetHF.run()\n",
    "budgetHF.ifo.Squeezer.FilterCavity=squeezingFC.computeFCParams(budgetHF.ifo)\n",
    "#fig = gwinc.plot_budget(tracesHF)\n",
    "#plt.ylabel('Strain [[$1 / \\sqrt{\\mathrm{Hz}}$]]')\n",
    "#plt.xlim([5, 1e4])\n",
    "#plt.ylim([5e-26, 1e-22])"
   ]
  },
  {
   "cell_type": "markdown",
   "metadata": {},
   "source": [
    "## 15km HF，12cm beam size，200kg"
   ]
  },
  {
   "cell_type": "code",
   "execution_count": 4,
   "metadata": {},
   "outputs": [],
   "source": [
    "budgetHF15kmA = gwinc.load_budget('ETHF',freq=freq)\n",
    "budgetHF15kmA.ifo.Infrastructure.Length=15000\n",
    "budgetHF15kmA.ifo.Optics.Curvature.ITM=7750\n",
    "budgetHF15kmA.ifo.Optics.Curvature.ETM=7750\n",
    "budgetHF15kmA.ifo.Optics.SRM.Transmittance=0.07\n",
    "budgetHF15kmA.ifo.Squeezer.FilterCavity=squeezingFC.computeFCParams(budgetHF15kmA.ifo)\n",
    "tracesHF15kmA = budgetHF15kmA.run()\n",
    "#fig = gwinc.plot_budget(tracesHF15kmA)\n",
    "#plt.ylabel('Strain [[$1 / \\sqrt{\\mathrm{Hz}}$]]')\n",
    "#plt.ylim([5e-26, 1e-22])"
   ]
  },
  {
   "cell_type": "code",
   "execution_count": 5,
   "metadata": {},
   "outputs": [
    {
     "name": "stdout",
     "output_type": "stream",
     "text": [
      "Filter cavity input mirror T=0.000636\n",
      "Filter cavity input mirror Detune=-25.274014\n"
     ]
    }
   ],
   "source": [
    "print('Filter cavity input mirror T={}'.format(format(budgetHF15kmA.ifo.Squeezer.FilterCavity.Ti,\".6f\")),\n",
    "      'Filter cavity input mirror Detune={}'.format(format(budgetHF15kmA.ifo.Squeezer.FilterCavity.fdetune,\".6f\")),sep=\"\\n\")"
   ]
  },
  {
   "cell_type": "markdown",
   "metadata": {},
   "source": [
    "## 15km HF，13.5cm beam size，200kg"
   ]
  },
  {
   "cell_type": "code",
   "execution_count": 6,
   "metadata": {},
   "outputs": [],
   "source": [
    "budgetHF15kmB = gwinc.load_budget('ETHF',freq=freq)\n",
    "budgetHF15kmB.ifo.Infrastructure.Length=15000\n",
    "budgetHF15kmB.ifo.Optics.Curvature.ITM=7650\n",
    "budgetHF15kmB.ifo.Optics.Curvature.ETM=7650\n",
    "budgetHF15kmB.ifo.Optics.SRM.Transmittance=0.07\n",
    "budgetHF15kmB.ifo.Materials.MassRadius=0.68/2\n",
    "budgetHF15kmB.ifo.Materials.MassThickness=0.25\n",
    "budgetHF15kmB.ifo.Squeezer.FilterCavity=squeezingFC.computeFCParams(budgetHF15kmB.ifo)\n",
    "tracesHF15kmB = budgetHF15kmB.run()\n",
    "#fig = gwinc.plot_budget(tracesHF15kmB)\n",
    "#plt.ylabel('Strain [[$1 / \\sqrt{\\mathrm{Hz}}$]]')\n",
    "#plt.ylim([5e-26, 1e-22]) "
   ]
  },
  {
   "cell_type": "markdown",
   "metadata": {},
   "source": [
    "## 20km HF，12cm beam size，200kg"
   ]
  },
  {
   "cell_type": "code",
   "execution_count": 7,
   "metadata": {},
   "outputs": [],
   "source": [
    "budgetHF20kmA = gwinc.load_budget('ETHF',freq=freq)\n",
    "budgetHF20kmA.ifo.Infrastructure.Length=20000\n",
    "budgetHF20kmA.ifo.Optics.Curvature.ITM=10620\n",
    "budgetHF20kmA.ifo.Optics.Curvature.ETM=10620\n",
    "budgetHF20kmA.ifo.Optics.SRM.Transmittance=0.05\n",
    "budgetHF20kmA.ifo.Squeezer.FilterCavity=squeezingFC.computeFCParams(budgetHF20kmA.ifo)\n",
    "tracesHF20kmA = budgetHF20kmA.run()\n",
    "#fig = gwinc.plot_budget(tracesHF20kmA)\n",
    "#plt.ylabel('Strain [[$1 / \\sqrt{\\mathrm{Hz}}$]]')\n",
    "#plt.ylim([5e-26, 1e-22])"
   ]
  },
  {
   "cell_type": "code",
   "execution_count": 8,
   "metadata": {},
   "outputs": [
    {
     "name": "stdout",
     "output_type": "stream",
     "text": [
      "Filter cavity input mirror T=0.000535\n",
      "Filter cavity input mirror Detune=-21.243293\n"
     ]
    }
   ],
   "source": [
    "print('Filter cavity input mirror T={}'.format(format(budgetHF20kmA.ifo.Squeezer.FilterCavity.Ti,\".6f\")),\n",
    "      'Filter cavity input mirror Detune={}'.format(format(budgetHF20kmA.ifo.Squeezer.FilterCavity.fdetune,\".6f\")),sep=\"\\n\")"
   ]
  },
  {
   "cell_type": "markdown",
   "metadata": {},
   "source": [
    "## 20km HF，15cm beam size，200kg"
   ]
  },
  {
   "cell_type": "code",
   "execution_count": 9,
   "metadata": {},
   "outputs": [],
   "source": [
    "budgetHF20kmB = gwinc.load_budget('ETHF',freq=freq)\n",
    "budgetHF20kmB.ifo.Infrastructure.Length=20000\n",
    "budgetHF20kmB.ifo.Optics.Curvature.ITM=10240\n",
    "budgetHF20kmB.ifo.Optics.Curvature.ETM=10240\n",
    "budgetHF20kmB.ifo.Materials.MassRadius=0.75/2\n",
    "budgetHF20kmB.ifo.Materials.MassThickness=0.21\n",
    "budgetHF20kmB.ifo.Optics.SRM.Transmittance=0.05\n",
    "budgetHF20kmB.ifo.Squeezer.FilterCavity=squeezingFC.computeFCParams(budgetHF20kmB.ifo)\n",
    "tracesHF20kmB = budgetHF20kmB.run()\n",
    "#fig = gwinc.plot_budget(tracesHF20kmB)\n",
    "#plt.ylabel('Strain [[$1 / \\sqrt{\\mathrm{Hz}}$]]')\n",
    "#plt.ylim([5e-26, 1e-22])"
   ]
  },
  {
   "cell_type": "markdown",
   "metadata": {},
   "source": [
    "# ET Low-Frequency"
   ]
  },
  {
   "cell_type": "markdown",
   "metadata": {},
   "source": [
    "## 10km LF"
   ]
  },
  {
   "cell_type": "code",
   "execution_count": 9,
   "metadata": {},
   "outputs": [],
   "source": [
    "budgetLF = gwinc.load_budget('ETLF',freq=freq)\n",
    "budgetLF.ifo.Squeezer.FilterCavity=sqz_dual_fc.computeFCParams(budgetLF.ifo)\n",
    "tracesLF = budgetLF.run()\n",
    "#fig = gwinc.plot_budget(tracesLF)\n",
    "#plt.ylabel('Strain [[$1 / \\sqrt{\\mathrm{Hz}}$]]')\n",
    "#plt.legend(loc='upper right')\n",
    "#plt.ylim([5e-26, 1e-21])"
   ]
  },
  {
   "cell_type": "code",
   "execution_count": 10,
   "metadata": {},
   "outputs": [
    {
     "name": "stdout",
     "output_type": "stream",
     "text": [
      "Filter cavity 1 input mirror T=0.000368\n",
      "Filter cavity 1 input mirror Detune=-6.695223\n",
      "Filter cavity 2 input mirror T=0.001432\n",
      "Filter cavity 2 input mirror Detune=25.345230\n"
     ]
    }
   ],
   "source": [
    "print('Filter cavity 1 input mirror T={}'.format(format(budgetLF.ifo.Squeezer.FilterCavity[0].Ti,\".6f\")),\n",
    "      'Filter cavity 1 input mirror Detune={}'.format(format(budgetLF.ifo.Squeezer.FilterCavity[0].fdetune,\".6f\")),\n",
    "      'Filter cavity 2 input mirror T={}'.format(format(budgetLF.ifo.Squeezer.FilterCavity[1].Ti,\".6f\")),\n",
    "      'Filter cavity 2 input mirror Detune={}'.format(format(budgetLF.ifo.Squeezer.FilterCavity[1].fdetune,\".6f\")),sep=\"\\n\")"
   ]
  },
  {
   "cell_type": "markdown",
   "metadata": {},
   "source": [
    "## 15km LF, 9cm beam size"
   ]
  },
  {
   "cell_type": "code",
   "execution_count": 12,
   "metadata": {},
   "outputs": [],
   "source": [
    "budgetLF15kmA = gwinc.load_budget('ETLF',freq=freq)\n",
    "budgetLF15kmA.ifo.Optics.SRM.Transmittance=0.14\n",
    "budgetLF15kmA.ifo.Optics.SRM.Tunephase=0.4\n",
    "budgetLF15kmA.ifo.Infrastructure.Length=15000\n",
    "budgetLF15kmA.ifo.Optics.Curvature.ITM=10670\n",
    "budgetLF15kmA.ifo.Optics.Curvature.ETM=10670\n",
    "budgetLF15kmA.ifo.Squeezer.FilterCavity=sqz_dual_fc.computeFCParams(budgetLF15kmA.ifo)\n",
    "tracesLF15kmA = budgetLF15kmA.run()\n",
    "#fig = gwinc.plot_budget(tracesLF15kmA)\n",
    "#plt.ylabel('Strain [[$1 / \\sqrt{\\mathrm{Hz}}$]]')\n",
    "#plt.legend(loc='upper right')\n",
    "#plt.ylim([5e-26, 1e-21])"
   ]
  },
  {
   "cell_type": "code",
   "execution_count": 13,
   "metadata": {},
   "outputs": [
    {
     "name": "stdout",
     "output_type": "stream",
     "text": [
      "Filter cavity 1 input mirror T=0.000092\n",
      "Filter cavity 1 input mirror Detune=-5.400951\n",
      "Filter cavity 2 input mirror T=0.000458\n",
      "Filter cavity 2 input mirror Detune=26.037861\n"
     ]
    }
   ],
   "source": [
    "print('Filter cavity 1 input mirror T={}'.format(format(budgetLF15kmA.ifo.Squeezer.FilterCavity[0].Ti,\".6f\")),\n",
    "      'Filter cavity 1 input mirror Detune={}'.format(format(budgetLF15kmA.ifo.Squeezer.FilterCavity[0].fdetune,\".6f\")),\n",
    "      'Filter cavity 2 input mirror T={}'.format(format(budgetLF15kmA.ifo.Squeezer.FilterCavity[1].Ti,\".6f\")),\n",
    "      'Filter cavity 2 input mirror Detune={}'.format(format(budgetLF15kmA.ifo.Squeezer.FilterCavity[1].fdetune,\".6f\")),sep=\"\\n\")"
   ]
  },
  {
   "cell_type": "markdown",
   "metadata": {},
   "source": [
    "## 20km LF, 10cm beam size, 45cm mirror"
   ]
  },
  {
   "cell_type": "code",
   "execution_count": 14,
   "metadata": {},
   "outputs": [],
   "source": [
    "budgetLF20kmA = gwinc.load_budget('ETLF',freq=freq)\n",
    "budgetLF20kmA.ifo.Optics.PRM.Transmittance=0.08\n",
    "budgetLF20kmA.ifo.Optics.SRM.Transmittance=0.105\n",
    "budgetLF20kmA.ifo.Optics.SRM.Tunephase=0.3\n",
    "budgetLF20kmA.ifo.Infrastructure.Length=20000\n",
    "budgetLF20kmA.ifo.Optics.Curvature.ITM=16000\n",
    "budgetLF20kmA.ifo.Optics.Curvature.ETM=16000\n",
    "budgetLF20kmA.ifo.Optics.Loss=73e-6\n",
    "budgetLF20kmA.ifo.Squeezer.FilterCavity=sqz_dual_fc.computeFCParams(budgetLF20kmA.ifo)\n",
    "tracesLF20kmA = budgetLF20kmA.run()\n",
    "#fig = gwinc.plot_budget(tracesLF20kmA)\n",
    "#plt.ylabel('Strain [[$1 / \\sqrt{\\mathrm{Hz}}$]]')\n",
    "#plt.legend(loc='upper right')\n",
    "#plt.ylim([5e-26, 1e-21])"
   ]
  },
  {
   "cell_type": "code",
   "execution_count": 15,
   "metadata": {},
   "outputs": [
    {
     "name": "stdout",
     "output_type": "stream",
     "text": [
      "Filter cavity 1 input mirror T=0.000053\n",
      "Filter cavity 1 input mirror Detune=-3.387534\n",
      "Filter cavity 2 input mirror T=0.000430\n",
      "Filter cavity 2 input mirror Detune=26.518002\n"
     ]
    }
   ],
   "source": [
    "print('Filter cavity 1 input mirror T={}'.format(format(budgetLF20kmA.ifo.Squeezer.FilterCavity[0].Ti,\".6f\")),\n",
    "      'Filter cavity 1 input mirror Detune={}'.format(format(budgetLF20kmA.ifo.Squeezer.FilterCavity[0].fdetune,\".6f\")),\n",
    "      'Filter cavity 2 input mirror T={}'.format(format(budgetLF20kmA.ifo.Squeezer.FilterCavity[1].Ti,\".6f\")),\n",
    "      'Filter cavity 2 input mirror Detune={}'.format(format(budgetLF20kmA.ifo.Squeezer.FilterCavity[1].fdetune,\".6f\")),sep=\"\\n\")"
   ]
  },
  {
   "cell_type": "markdown",
   "metadata": {},
   "source": [
    "## 20km LF, 10cm beam size, 45cm mirror, 5.6W input power   "
   ]
  },
  {
   "cell_type": "code",
   "execution_count": 16,
   "metadata": {},
   "outputs": [],
   "source": [
    "budgetLF20kmB = gwinc.load_budget('ETLF',freq=freq)\n",
    "budgetLF20kmB.ifo.Laser.Power=5.6\n",
    "budgetLF20kmB.ifo.Optics.PRM.Transmittance=0.08\n",
    "budgetLF20kmB.ifo.Optics.SRM.Transmittance=0.105\n",
    "budgetLF20kmB.ifo.Optics.SRM.Tunephase=0.3\n",
    "budgetLF20kmB.ifo.Infrastructure.Length=20000\n",
    "budgetLF20kmB.ifo.Optics.Curvature.ITM=16000\n",
    "budgetLF20kmB.ifo.Optics.Curvature.ETM=16000\n",
    "budgetLF20kmB.ifo.Optics.Loss=73e-6\n",
    "budgetLF20kmB.ifo.Squeezer.FilterCavity=sqz_dual_fc.computeFCParams(budgetLF20kmB.ifo)\n",
    "tracesLF20kmB = budgetLF20kmB.run()\n",
    "#fig = gwinc.plot_budget(tracesLF20kmB)\n",
    "#plt.ylabel('Strain [[$1 / \\sqrt{\\mathrm{Hz}}$]]')\n",
    "#plt.legend(loc='upper right')\n",
    "#plt.ylim([5e-26, 1e-21])"
   ]
  },
  {
   "cell_type": "markdown",
   "metadata": {},
   "source": [
    "## 20km LF, 10cm beam size, 50cm mirror"
   ]
  },
  {
   "cell_type": "code",
   "execution_count": 17,
   "metadata": {},
   "outputs": [],
   "source": [
    "budgetLF20kmC = gwinc.load_budget('ETLF',freq=freq)\n",
    "budgetLF20kmC.ifo.Optics.SRM.Transmittance=0.105\n",
    "budgetLF20kmC.ifo.Optics.SRM.Tunephase=0.3\n",
    "budgetLF20kmC.ifo.Infrastructure.Length=20000\n",
    "budgetLF20kmC.ifo.Optics.Curvature.ITM=16000\n",
    "budgetLF20kmC.ifo.Optics.Curvature.ETM=16000\n",
    "budgetLF20kmC.ifo.Materials.MassRadius=0.25\n",
    "budgetLF20kmC.ifo.Materials.MassThickness=0.21\n",
    "budgetLF20kmC.ifo.Squeezer.FilterCavity=sqz_dual_fc.computeFCParams(budgetLF20kmC.ifo)\n",
    "tracesLF20kmC = budgetLF20kmC.run()\n",
    "#fig = gwinc.plot_budget(tracesLF20kmL)\n",
    "#plt.ylabel('Strain [[$1 / \\sqrt{\\mathrm{Hz}}$]]')\n",
    "#plt.legend(loc='upper right')\n",
    "#plt.ylim([5e-26, 1e-21])"
   ]
  },
  {
   "cell_type": "code",
   "execution_count": 18,
   "metadata": {},
   "outputs": [],
   "source": [
    "ET10km=1/(1/tracesLF.psd+1/tracesHF.psd)\n",
    "ET15km=1/(1/tracesLF15kmA.psd+1/tracesHF15kmA.psd)\n",
    "ET20km=1/(1/tracesLF20kmA.psd+1/tracesHF20kmA.psd)\n",
    "ET1520km=1/(1/tracesLF15kmA.psd+1/tracesHF20kmA.psd)\n",
    "ET20kmB=1/(1/tracesLF20kmB.psd+1/tracesHF20kmA.psd)\n",
    "ET20kmC=1/(1/tracesLF20kmC.psd+1/tracesHF20kmA.psd)"
   ]
  },
  {
   "cell_type": "code",
   "execution_count": 19,
   "metadata": {},
   "outputs": [
    {
     "data": {
      "image/png": "[encoded data removed]",
      "text/plain": [
       "<Figure size 432x288 with 1 Axes>"
      ]
     },
     "metadata": {
      "needs_background": "light"
     },
     "output_type": "display_data"
    }
   ],
   "source": [
    "fig=plt.figure(figsize=(6., 4.))\n",
    "ax=fig.add_subplot(111)\n",
    "ax.loglog(freq,np.sqrt(ET10km),label='10km+10km')\n",
    "ax.loglog(freq,np.sqrt(ET15km),label='15km+15km')\n",
    "ax.loglog(freq,np.sqrt(ET20km),label='20km+20km')\n",
    "ax.legend()\n",
    "ax.set_xlim([1,7000])\n",
    "ax.set_ylim([1e-25, 1e-22])\n",
    "ax.set_xlabel('Frequency [Hz]')\n",
    "ax.set_ylabel('Strain [[$1 / \\sqrt{\\mathrm{Hz}}$]]')\n",
    "ax.grid(True,which='both',alpha=0.5)"
   ]
  },
  {
   "cell_type": "code",
   "execution_count": 20,
   "metadata": {},
   "outputs": [
    {
     "data": {
      "image/png": "[encoded data removed]",
      "text/plain": [
       "<Figure size 432x288 with 1 Axes>"
      ]
     },
     "metadata": {
      "needs_background": "light"
     },
     "output_type": "display_data"
    }
   ],
   "source": [
    "fig=plt.figure(figsize=(6., 4.))\n",
    "ax=fig.add_subplot(111)\n",
    "ax.loglog(freq,np.sqrt(ET10km),label='10km+10km')\n",
    "ax.loglog(freq,np.sqrt(ET15km),label='15km+15km')\n",
    "ax.loglog(freq,np.sqrt(ET1520km),label='15km+20km')\n",
    "ax.loglog(freq,np.sqrt(ET20kmB),'--',label='20km(45cm+5.6W)+20km ')\n",
    "ax.loglog(freq,np.sqrt(ET20kmC),':',label='20km(50cm)+20km ')\n",
    "ax.legend()\n",
    "ax.set_xlim([1,7000])\n",
    "ax.set_ylim([1e-25, 1e-22])\n",
    "ax.set_xlabel('Frequency [Hz]')\n",
    "ax.set_ylabel('Strain [[$1 / \\sqrt{\\mathrm{Hz}}$]]')\n",
    "ax.grid(True,which='both',alpha=0.5)"
   ]
  }
 ],
 "metadata": {
  "kernelspec": {
   "display_name": "Python 3",
   "language": "python",
   "name": "python3"
  },
  "language_info": {
   "codemirror_mode": {
    "name": "ipython",
    "version": 3
   },
   "file_extension": ".py",
   "mimetype": "text/x-python",
   "name": "python",
   "nbconvert_exporter": "python",
   "pygments_lexer": "ipython3",
   "version": "3.9.0"
  }
 },
 "nbformat": 4,
 "nbformat_minor": 4
}
